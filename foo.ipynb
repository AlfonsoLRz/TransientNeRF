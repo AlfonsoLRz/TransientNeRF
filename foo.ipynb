{
 "cells": [
  {
   "cell_type": "code",
   "id": "initial_id",
   "metadata": {
    "collapsed": true,
    "ExecuteTime": {
     "end_time": "2025-05-13T08:11:30.357614Z",
     "start_time": "2025-05-13T08:11:29.059479Z"
    }
   },
   "source": [
    "from loaders.loader_captured import SubjectLoaderTransientReal\n",
    "\n",
    "loader = SubjectLoaderTransientReal(subject_id='cinema',\n",
    "                                    root_fp='C:/Datasets/transient_nerf/cinema/final_cams/five_views',\n",
    "                                    split='test',\n",
    "                                    have_images=False)"
   ],
   "outputs": [],
   "execution_count": 1
  },
  {
   "metadata": {
    "ExecuteTime": {
     "end_time": "2025-05-13T08:13:21.541570Z",
     "start_time": "2025-05-13T08:13:21.509078Z"
    }
   },
   "cell_type": "code",
   "source": "loader.fetch_data(0)",
   "id": "3d64c6f73cb14ff2",
   "outputs": [
    {
     "ename": "AttributeError",
     "evalue": "'SubjectLoaderTransientReal' object has no attribute 'K'",
     "output_type": "error",
     "traceback": [
      "\u001B[31m---------------------------------------------------------------------------\u001B[39m",
      "\u001B[31mAttributeError\u001B[39m                            Traceback (most recent call last)",
      "\u001B[36mCell\u001B[39m\u001B[36m \u001B[39m\u001B[32mIn[6]\u001B[39m\u001B[32m, line 1\u001B[39m\n\u001B[32m----> \u001B[39m\u001B[32m1\u001B[39m \u001B[43mloader\u001B[49m\u001B[43m.\u001B[49m\u001B[43mfetch_data\u001B[49m\u001B[43m(\u001B[49m\u001B[32;43m0\u001B[39;49m\u001B[43m)\u001B[49m\n",
      "\u001B[36mFile \u001B[39m\u001B[32mC:\\Github\\TransientNeRF\\loaders\\loader_captured.py:370\u001B[39m, in \u001B[36mSubjectLoaderTransientReal.fetch_data\u001B[39m\u001B[34m(self, index, rep, num_rays)\u001B[39m\n\u001B[32m    365\u001B[39m     s_x = x\n\u001B[32m    366\u001B[39m     s_y = y\n\u001B[32m--> \u001B[39m\u001B[32m370\u001B[39m camera_dirs = \u001B[38;5;28;43mself\u001B[39;49m\u001B[43m.\u001B[49m\u001B[43mK\u001B[49m(s_x, s_y)\n\u001B[32m    372\u001B[39m directions = (camera_dirs[:, \u001B[38;5;28;01mNone\u001B[39;00m, :] * c2w[:, :\u001B[32m3\u001B[39m, :\u001B[32m3\u001B[39m]).sum(dim=-\u001B[32m1\u001B[39m)\n\u001B[32m    373\u001B[39m origins = torch.broadcast_to(c2w[:, :\u001B[32m3\u001B[39m, -\u001B[32m1\u001B[39m], directions.shape)\n",
      "\u001B[31mAttributeError\u001B[39m: 'SubjectLoaderTransientReal' object has no attribute 'K'"
     ]
    }
   ],
   "execution_count": 6
  },
  {
   "metadata": {},
   "cell_type": "code",
   "outputs": [],
   "execution_count": null,
   "source": "",
   "id": "e44ee29d087d2368"
  }
 ],
 "metadata": {
  "kernelspec": {
   "display_name": "Python 3",
   "language": "python",
   "name": "python3"
  },
  "language_info": {
   "codemirror_mode": {
    "name": "ipython",
    "version": 2
   },
   "file_extension": ".py",
   "mimetype": "text/x-python",
   "name": "python",
   "nbconvert_exporter": "python",
   "pygments_lexer": "ipython2",
   "version": "2.7.6"
  }
 },
 "nbformat": 4,
 "nbformat_minor": 5
}
